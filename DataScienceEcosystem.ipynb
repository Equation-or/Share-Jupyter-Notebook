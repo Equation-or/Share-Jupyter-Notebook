{
 "cells": [
  {
   "cell_type": "markdown",
   "id": "7c8400c8-ae71-4132-a495-05d55207bd32",
   "metadata": {},
   "source": [
    "<center>\r\n",
    "    <img src=\"https://cf-courses-data.s3.us.cloud-object-storage.appdomain.cloud/IBMDeveloperSkillsNetwork-DS0105EN-SkillsNetwork/labs/Module2/images/SN_web_lightmode.png\" width=\"300\" alt=\"cognitiveclass.ai logo\">\r\n",
    "</center>"
   ]
  },
  {
   "cell_type": "markdown",
   "id": "e87f7789-f6ad-4ba5-8d07-329269614cb6",
   "metadata": {},
   "source": [
    "<center>\n",
    "    <img src=\"https://cf-courses-data.s3.us.cloud-object-storage.appdomain.cloud/IBMDeveloperSkillsNetwork-DS0105EN-SkillsNetwork/labs/Module2/images/SN_web_lightmode.png\" width=\"300\" alt=\"cognitiveclass.ai logo\">\n",
    "</center>"
   ]
  },
  {
   "cell_type": "markdown",
   "id": "f819641c-3b14-464f-b571-bf2efc9c25a3",
   "metadata": {},
   "source": [
    "print ('Hello World')"
   ]
  },
  {
   "cell_type": "code",
   "execution_count": null,
   "id": "cc287358-f788-4199-8ec2-14ec7e2d3d1d",
   "metadata": {},
   "outputs": [],
   "source": [
    "print ('Hello World')"
   ]
  },
  {
   "cell_type": "code",
   "execution_count": null,
   "id": "690c31b8-9a21-40cb-9999-ef4d40219e69",
   "metadata": {},
   "outputs": [],
   "source": [
    "print ('Hello World')"
   ]
  },
  {
   "cell_type": "code",
   "execution_count": 1,
   "id": "ca35b1aa-20c9-4fb4-820a-e645570595b9",
   "metadata": {},
   "outputs": [
    {
     "name": "stdout",
     "output_type": "stream",
     "text": [
      "Data Science Tools and Ecosystem\n"
     ]
    }
   ],
   "source": [
    "print ('Data Science Tools and Ecosystem')"
   ]
  },
  {
   "cell_type": "code",
   "execution_count": null,
   "id": "d38697bd-9f58-4e47-af06-9c16235e1615",
   "metadata": {},
   "outputs": [],
   "source": []
  }
 ],
 "metadata": {
  "kernelspec": {
   "display_name": "anaconda-panel-2023.05-py310",
   "language": "python",
   "name": "conda-env-anaconda-panel-2023.05-py310-py"
  },
  "language_info": {
   "codemirror_mode": {
    "name": "ipython",
    "version": 3
   },
   "file_extension": ".py",
   "mimetype": "text/x-python",
   "name": "python",
   "nbconvert_exporter": "python",
   "pygments_lexer": "ipython3",
   "version": "3.11.5"
  }
 },
 "nbformat": 4,
 "nbformat_minor": 5
}
